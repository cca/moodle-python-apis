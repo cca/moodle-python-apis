{
 "cells": [
  {
   "cell_type": "markdown",
   "id": "c23f37a8",
   "metadata": {},
   "source": [
    "# Check Emails Suppressed by Mailgun\n",
    "\n",
    "Mailgun will block sending to an email address that has bounced back from Google as being inactive/unavailable. Sometimes active users' emails are temporarily disabled, resulting in Mailgun permanently blocking them. This process checks suppressed email addresses against active user accounts to see if any need to be unblocked.\n",
    "\n",
    "To get the data: go to Mailgun > **Supressed** under the Sending category > **Export** to download a CSV of all suppressed addresses (named \"suppressed.csv\" below). Then download the full JSON lists of active students and employess:\n",
    "\n",
    "```sh\n",
    "gsutil cp gs://integration-success/employee_data.json .\n",
    "gsutil cp gs://integration-success/student_data.json .\n",
    "```"
   ]
  },
  {
   "cell_type": "code",
   "execution_count": null,
   "id": "78e4cd29",
   "metadata": {},
   "outputs": [],
   "source": [
    "import csv\n",
    "import json\n",
    "from typing import Any\n",
    "\n",
    "students: list[dict[str, Any]] = json.load(open(\"student_data.json\"))[\"Report_Entry\"]\n",
    "employees: list[dict[str, Any]] = json.load(open(\"employee_data.json\"))[\"Report_Entry\"]\n",
    "emails: set[str | None] = set()\n",
    "for student in students:\n",
    "    emails.add(student.get(\"inst_email\"))\n",
    "for employee in employees:\n",
    "    emails.add(employee.get(\"work_email\"))\n",
    "\n",
    "with open(\"suppressed.csv\", \"r\") as fh:\n",
    "    reader = csv.DictReader(fh)\n",
    "    for row in reader:\n",
    "        if row[\"address\"] in emails:\n",
    "            print(row[\"address\"])\n"
   ]
  }
 ],
 "metadata": {
  "language_info": {
   "name": "python"
  }
 },
 "nbformat": 4,
 "nbformat_minor": 5
}
